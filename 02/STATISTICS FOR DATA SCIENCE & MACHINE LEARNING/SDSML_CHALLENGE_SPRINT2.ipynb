{
 "cells": [
  {
   "cell_type": "code",
   "execution_count": 1,
   "metadata": {},
   "outputs": [],
   "source": [
    "import numpy as np\n",
    "import pandas as pd\n",
    "import matplotlib.pyplot as plt"
   ]
  },
  {
   "cell_type": "code",
   "execution_count": 2,
   "metadata": {},
   "outputs": [],
   "source": [
    "df = pd.read_csv(\"customer_journey.csv\")"
   ]
  },
  {
   "cell_type": "code",
   "execution_count": 3,
   "metadata": {},
   "outputs": [
    {
     "data": {
      "text/html": [
       "<div>\n",
       "<style scoped>\n",
       "    .dataframe tbody tr th:only-of-type {\n",
       "        vertical-align: middle;\n",
       "    }\n",
       "\n",
       "    .dataframe tbody tr th {\n",
       "        vertical-align: top;\n",
       "    }\n",
       "\n",
       "    .dataframe thead th {\n",
       "        text-align: right;\n",
       "    }\n",
       "</style>\n",
       "<table border=\"1\" class=\"dataframe\">\n",
       "  <thead>\n",
       "    <tr style=\"text-align: right;\">\n",
       "      <th></th>\n",
       "      <th>user_id</th>\n",
       "      <th>genero</th>\n",
       "      <th>idade</th>\n",
       "      <th>purchase_id</th>\n",
       "      <th>data</th>\n",
       "      <th>tipo_dispositivo</th>\n",
       "      <th>produto</th>\n",
       "    </tr>\n",
       "  </thead>\n",
       "  <tbody>\n",
       "    <tr>\n",
       "      <th>0</th>\n",
       "      <td>579</td>\n",
       "      <td>2.0</td>\n",
       "      <td>58.0</td>\n",
       "      <td>2490</td>\n",
       "      <td>2016-04-25 04:31:40</td>\n",
       "      <td>FIXED</td>\n",
       "      <td>1</td>\n",
       "    </tr>\n",
       "    <tr>\n",
       "      <th>1</th>\n",
       "      <td>1744</td>\n",
       "      <td>1.0</td>\n",
       "      <td>50.0</td>\n",
       "      <td>6941</td>\n",
       "      <td>2015-09-15 13:40:10</td>\n",
       "      <td>FIXED</td>\n",
       "      <td>4</td>\n",
       "    </tr>\n",
       "    <tr>\n",
       "      <th>2</th>\n",
       "      <td>1754</td>\n",
       "      <td>1.0</td>\n",
       "      <td>55.0</td>\n",
       "      <td>6982</td>\n",
       "      <td>2016-08-21 16:20:03</td>\n",
       "      <td>FIXED</td>\n",
       "      <td>10</td>\n",
       "    </tr>\n",
       "    <tr>\n",
       "      <th>3</th>\n",
       "      <td>1846</td>\n",
       "      <td>2.0</td>\n",
       "      <td>32.0</td>\n",
       "      <td>7331</td>\n",
       "      <td>2016-02-22 18:17:52</td>\n",
       "      <td>FIXED</td>\n",
       "      <td>7</td>\n",
       "    </tr>\n",
       "    <tr>\n",
       "      <th>4</th>\n",
       "      <td>7300</td>\n",
       "      <td>2.0</td>\n",
       "      <td>39.0</td>\n",
       "      <td>357</td>\n",
       "      <td>2015-08-10 15:42:45</td>\n",
       "      <td>FIXED</td>\n",
       "      <td>1</td>\n",
       "    </tr>\n",
       "  </tbody>\n",
       "</table>\n",
       "</div>"
      ],
      "text/plain": [
       "   user_id  genero  idade  purchase_id                 data tipo_dispositivo  \\\n",
       "0      579     2.0   58.0         2490  2016-04-25 04:31:40            FIXED   \n",
       "1     1744     1.0   50.0         6941  2015-09-15 13:40:10            FIXED   \n",
       "2     1754     1.0   55.0         6982  2016-08-21 16:20:03            FIXED   \n",
       "3     1846     2.0   32.0         7331  2016-02-22 18:17:52            FIXED   \n",
       "4     7300     2.0   39.0          357  2015-08-10 15:42:45            FIXED   \n",
       "\n",
       "   produto  \n",
       "0        1  \n",
       "1        4  \n",
       "2       10  \n",
       "3        7  \n",
       "4        1  "
      ]
     },
     "execution_count": 3,
     "metadata": {},
     "output_type": "execute_result"
    }
   ],
   "source": [
    "df.head()"
   ]
  },
  {
   "cell_type": "code",
   "execution_count": 4,
   "metadata": {},
   "outputs": [],
   "source": [
    "df = df.drop(columns=[\"user_id\", \"purchase_id\"])"
   ]
  },
  {
   "cell_type": "code",
   "execution_count": 5,
   "metadata": {},
   "outputs": [],
   "source": [
    "dispositivo_x_idade = df.groupby(\"tipo_dispositivo\")[\"idade\"]"
   ]
  },
  {
   "cell_type": "code",
   "execution_count": 6,
   "metadata": {},
   "outputs": [
    {
     "data": {
      "text/plain": [
       "tipo_dispositivo\n",
       "FIXED     51.974829\n",
       "MOBILE    44.892565\n",
       "Name: idade, dtype: float64"
      ]
     },
     "execution_count": 6,
     "metadata": {},
     "output_type": "execute_result"
    }
   ],
   "source": [
    "dispositivo_x_idade.mean()"
   ]
  },
  {
   "cell_type": "code",
   "execution_count": 7,
   "metadata": {},
   "outputs": [
    {
     "data": {
      "text/plain": [
       "tipo_dispositivo\n",
       "FIXED     52.0\n",
       "MOBILE    42.0\n",
       "Name: idade, dtype: float64"
      ]
     },
     "execution_count": 7,
     "metadata": {},
     "output_type": "execute_result"
    }
   ],
   "source": [
    "dispositivo_x_idade.median()"
   ]
  },
  {
   "cell_type": "code",
   "execution_count": 8,
   "metadata": {},
   "outputs": [
    {
     "data": {
      "text/plain": [
       "tipo_dispositivo\n",
       "FIXED     58.0\n",
       "MOBILE    33.0\n",
       "Name: idade, dtype: float64"
      ]
     },
     "execution_count": 8,
     "metadata": {},
     "output_type": "execute_result"
    }
   ],
   "source": [
    "dispositivo_x_idade.agg(pd.Series.mode)"
   ]
  },
  {
   "cell_type": "markdown",
   "metadata": {},
   "source": [
    "Pessoas com 50+ anos tem preferência a utilizar serviços fixos, como caixa e gerente."
   ]
  },
  {
   "cell_type": "code",
   "execution_count": 9,
   "metadata": {},
   "outputs": [
    {
     "name": "stdout",
     "output_type": "stream",
     "text": [
      "{1: 3766, 4: 892, 10: 513, 7: 3238, 2: 299, 15: 25, 16: 236, 13: 547, 14: 142, 5: 249, 8: 37, 9: 14, 6: 4, 3: 36, 12: 2}\n"
     ]
    }
   ],
   "source": [
    "def contador(lista):\n",
    "    resultado = {}\n",
    "    for i in lista:\n",
    "        resultado[i] = lista.count(i)\n",
    "    return resultado\n",
    "\n",
    "\n",
    "produtos = list(df[\"produto\"])\n",
    "\n",
    "print(contador(produtos))"
   ]
  },
  {
   "cell_type": "markdown",
   "metadata": {},
   "source": [
    "Os produtos mais utilizados são 1 e 7 (empréstimos em conta-corrente e crédito pessoal).\n",
    "Os menos usados são 6 e 12 (conta garantida e operações de factoring)."
   ]
  },
  {
   "cell_type": "code",
   "execution_count": 10,
   "metadata": {},
   "outputs": [],
   "source": [
    "total_masc = df[df[\"genero\"] == 1.0][\"genero\"].count()"
   ]
  },
  {
   "cell_type": "code",
   "execution_count": 11,
   "metadata": {},
   "outputs": [
    {
     "data": {
      "text/plain": [
       "5189"
      ]
     },
     "execution_count": 11,
     "metadata": {},
     "output_type": "execute_result"
    }
   ],
   "source": [
    "total_masc"
   ]
  },
  {
   "cell_type": "code",
   "execution_count": 12,
   "metadata": {},
   "outputs": [],
   "source": [
    "total_fem = df[df[\"genero\"] == 2.0][\"genero\"].count()"
   ]
  },
  {
   "cell_type": "code",
   "execution_count": 13,
   "metadata": {},
   "outputs": [
    {
     "data": {
      "text/plain": [
       "4811"
      ]
     },
     "execution_count": 13,
     "metadata": {},
     "output_type": "execute_result"
    }
   ],
   "source": [
    "total_fem"
   ]
  },
  {
   "cell_type": "code",
   "execution_count": 14,
   "metadata": {},
   "outputs": [
    {
     "data": {
      "text/plain": [
       "1.0785699438786116"
      ]
     },
     "execution_count": 14,
     "metadata": {},
     "output_type": "execute_result"
    }
   ],
   "source": [
    "total_masc / total_fem"
   ]
  },
  {
   "cell_type": "markdown",
   "metadata": {},
   "source": [
    "Os homens são 7.8% mais presentes."
   ]
  },
  {
   "cell_type": "code",
   "execution_count": 15,
   "metadata": {},
   "outputs": [
    {
     "data": {
      "text/plain": [
       "genero\n",
       "1.0    1\n",
       "2.0    1\n",
       "Name: produto, dtype: int64"
      ]
     },
     "execution_count": 15,
     "metadata": {},
     "output_type": "execute_result"
    }
   ],
   "source": [
    "df.groupby(\"genero\")[\"produto\"].agg(pd.Series.mode)"
   ]
  },
  {
   "cell_type": "code",
   "execution_count": 16,
   "metadata": {},
   "outputs": [
    {
     "data": {
      "text/html": [
       "<div>\n",
       "<style scoped>\n",
       "    .dataframe tbody tr th:only-of-type {\n",
       "        vertical-align: middle;\n",
       "    }\n",
       "\n",
       "    .dataframe tbody tr th {\n",
       "        vertical-align: top;\n",
       "    }\n",
       "\n",
       "    .dataframe thead th {\n",
       "        text-align: right;\n",
       "    }\n",
       "</style>\n",
       "<table border=\"1\" class=\"dataframe\">\n",
       "  <thead>\n",
       "    <tr style=\"text-align: right;\">\n",
       "      <th></th>\n",
       "      <th>genero</th>\n",
       "      <th>idade</th>\n",
       "      <th>data</th>\n",
       "      <th>tipo_dispositivo</th>\n",
       "      <th>produto</th>\n",
       "    </tr>\n",
       "  </thead>\n",
       "  <tbody>\n",
       "    <tr>\n",
       "      <th>0</th>\n",
       "      <td>2.0</td>\n",
       "      <td>58.0</td>\n",
       "      <td>2016-04-25 04:31:40</td>\n",
       "      <td>FIXED</td>\n",
       "      <td>1</td>\n",
       "    </tr>\n",
       "    <tr>\n",
       "      <th>1</th>\n",
       "      <td>1.0</td>\n",
       "      <td>50.0</td>\n",
       "      <td>2015-09-15 13:40:10</td>\n",
       "      <td>FIXED</td>\n",
       "      <td>4</td>\n",
       "    </tr>\n",
       "    <tr>\n",
       "      <th>2</th>\n",
       "      <td>1.0</td>\n",
       "      <td>55.0</td>\n",
       "      <td>2016-08-21 16:20:03</td>\n",
       "      <td>FIXED</td>\n",
       "      <td>10</td>\n",
       "    </tr>\n",
       "    <tr>\n",
       "      <th>3</th>\n",
       "      <td>2.0</td>\n",
       "      <td>32.0</td>\n",
       "      <td>2016-02-22 18:17:52</td>\n",
       "      <td>FIXED</td>\n",
       "      <td>7</td>\n",
       "    </tr>\n",
       "    <tr>\n",
       "      <th>4</th>\n",
       "      <td>2.0</td>\n",
       "      <td>39.0</td>\n",
       "      <td>2015-08-10 15:42:45</td>\n",
       "      <td>FIXED</td>\n",
       "      <td>1</td>\n",
       "    </tr>\n",
       "    <tr>\n",
       "      <th>...</th>\n",
       "      <td>...</td>\n",
       "      <td>...</td>\n",
       "      <td>...</td>\n",
       "      <td>...</td>\n",
       "      <td>...</td>\n",
       "    </tr>\n",
       "    <tr>\n",
       "      <th>9995</th>\n",
       "      <td>2.0</td>\n",
       "      <td>60.0</td>\n",
       "      <td>2015-12-23 20:32:35</td>\n",
       "      <td>MOBILE</td>\n",
       "      <td>2</td>\n",
       "    </tr>\n",
       "    <tr>\n",
       "      <th>9996</th>\n",
       "      <td>1.0</td>\n",
       "      <td>68.0</td>\n",
       "      <td>2016-05-11 12:35:07</td>\n",
       "      <td>FIXED</td>\n",
       "      <td>1</td>\n",
       "    </tr>\n",
       "    <tr>\n",
       "      <th>9997</th>\n",
       "      <td>2.0</td>\n",
       "      <td>41.0</td>\n",
       "      <td>2016-01-27 17:45:01</td>\n",
       "      <td>FIXED</td>\n",
       "      <td>1</td>\n",
       "    </tr>\n",
       "    <tr>\n",
       "      <th>9998</th>\n",
       "      <td>1.0</td>\n",
       "      <td>67.0</td>\n",
       "      <td>2015-07-25 14:25:53</td>\n",
       "      <td>FIXED</td>\n",
       "      <td>4</td>\n",
       "    </tr>\n",
       "    <tr>\n",
       "      <th>9999</th>\n",
       "      <td>2.0</td>\n",
       "      <td>37.0</td>\n",
       "      <td>2015-12-02 08:57:38</td>\n",
       "      <td>MOBILE</td>\n",
       "      <td>5</td>\n",
       "    </tr>\n",
       "  </tbody>\n",
       "</table>\n",
       "<p>10000 rows × 5 columns</p>\n",
       "</div>"
      ],
      "text/plain": [
       "      genero  idade                 data tipo_dispositivo  produto\n",
       "0        2.0   58.0  2016-04-25 04:31:40            FIXED        1\n",
       "1        1.0   50.0  2015-09-15 13:40:10            FIXED        4\n",
       "2        1.0   55.0  2016-08-21 16:20:03            FIXED       10\n",
       "3        2.0   32.0  2016-02-22 18:17:52            FIXED        7\n",
       "4        2.0   39.0  2015-08-10 15:42:45            FIXED        1\n",
       "...      ...    ...                  ...              ...      ...\n",
       "9995     2.0   60.0  2015-12-23 20:32:35           MOBILE        2\n",
       "9996     1.0   68.0  2016-05-11 12:35:07            FIXED        1\n",
       "9997     2.0   41.0  2016-01-27 17:45:01            FIXED        1\n",
       "9998     1.0   67.0  2015-07-25 14:25:53            FIXED        4\n",
       "9999     2.0   37.0  2015-12-02 08:57:38           MOBILE        5\n",
       "\n",
       "[10000 rows x 5 columns]"
      ]
     },
     "execution_count": 16,
     "metadata": {},
     "output_type": "execute_result"
    }
   ],
   "source": [
    "df"
   ]
  },
  {
   "cell_type": "markdown",
   "metadata": {},
   "source": [
    "O produto mais utilizado entre homens e mulheres é o 1 (empréstimo em conta-corrente)."
   ]
  },
  {
   "cell_type": "code",
   "execution_count": 17,
   "metadata": {},
   "outputs": [
    {
     "data": {
      "text/plain": [
       "idade\n",
       "1.0            1\n",
       "2.0            7\n",
       "3.0            1\n",
       "4.0            1\n",
       "5.0            7\n",
       "6.0            1\n",
       "7.0            7\n",
       "8.0            7\n",
       "9.0    [1, 4, 7]\n",
       "Name: produto, dtype: object"
      ]
     },
     "execution_count": 17,
     "metadata": {},
     "output_type": "execute_result"
    }
   ],
   "source": [
    "idade_filtrada = df.copy()\n",
    "idade_filtrada[\"idade\"] = idade_filtrada[\"idade\"] // 10\n",
    "idade_filtrada.groupby(\"idade\")[\"produto\"].agg(pd.Series.mode)"
   ]
  },
  {
   "cell_type": "markdown",
   "metadata": {},
   "source": [
    "Entre as idades 19, 30-49 e 60-69 o produto mais comum é o 1\n",
    "Entre as idades 20-29, 50-59, 70-79 e 80-89 o produto mais comum é o 7\n",
    "Entre as idades 90-91 os produtos mais comuns são os 1, 4 e 7 "
   ]
  },
  {
   "cell_type": "code",
   "execution_count": 40,
   "metadata": {},
   "outputs": [
    {
     "data": {
      "text/plain": [
       "data\n",
       "1          1\n",
       "2          1\n",
       "3          1\n",
       "4          1\n",
       "5          1\n",
       "6     [1, 7]\n",
       "7          1\n",
       "8          7\n",
       "9          1\n",
       "10         1\n",
       "11         1\n",
       "12         1\n",
       "13         1\n",
       "14         1\n",
       "15         1\n",
       "16         1\n",
       "17         1\n",
       "18         1\n",
       "19         1\n",
       "20         7\n",
       "21         1\n",
       "22         1\n",
       "23         1\n",
       "24         7\n",
       "25         1\n",
       "26         1\n",
       "27         1\n",
       "28         1\n",
       "29         1\n",
       "30         1\n",
       "31         7\n",
       "Name: produto, dtype: object"
      ]
     },
     "execution_count": 40,
     "metadata": {},
     "output_type": "execute_result"
    }
   ],
   "source": [
    "data_filtrada = df.copy()\n",
    "data_filtrada[\"data\"] = pd.to_datetime(data_filtrada[\"data\"]).dt.day\n",
    "data_filtrada.groupby([\"data\"])[\"produto\"].agg(pd.Series.mode)"
   ]
  },
  {
   "cell_type": "code",
   "execution_count": null,
   "metadata": {},
   "outputs": [],
   "source": []
  }
 ],
 "metadata": {
  "kernelspec": {
   "display_name": "Python 3.10.5 64-bit (system)",
   "language": "python",
   "name": "python3"
  },
  "language_info": {
   "codemirror_mode": {
    "name": "ipython",
    "version": 3
   },
   "file_extension": ".py",
   "mimetype": "text/x-python",
   "name": "python",
   "nbconvert_exporter": "python",
   "pygments_lexer": "ipython3",
   "version": "3.10.5"
  },
  "orig_nbformat": 4,
  "vscode": {
   "interpreter": {
    "hash": "4969e0abbe28ddf3d158229b7275f3b2892003586087673d7a4034d2fe371621"
   }
  }
 },
 "nbformat": 4,
 "nbformat_minor": 2
}
