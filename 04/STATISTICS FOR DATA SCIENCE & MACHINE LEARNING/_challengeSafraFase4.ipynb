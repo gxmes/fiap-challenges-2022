{
 "cells": [
  {
   "cell_type": "code",
   "execution_count": null,
   "metadata": {},
   "outputs": [],
   "source": []
  }
 ],
 "metadata": {
  "kernelspec": {
   "display_name": "Python 3.10.5 64-bit (system)",
   "language": "python",
   "name": "python3"
  },
  "language_info": {
   "name": "python",
   "version": "3.10.5"
  },
  "orig_nbformat": 4,
  "vscode": {
   "interpreter": {
    "hash": "4969e0abbe28ddf3d158229b7275f3b2892003586087673d7a4034d2fe371621"
   }
  }
 },
 "nbformat": 4,
 "nbformat_minor": 2
}
